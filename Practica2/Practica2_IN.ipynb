{
 "cells": [
  {
   "cell_type": "code",
   "execution_count": 35,
   "metadata": {
    "scrolled": false
   },
   "outputs": [
    {
     "name": "stdout",
     "output_type": "stream",
     "text": [
      "89519\n"
     ]
    },
    {
     "name": "stderr",
     "output_type": "stream",
     "text": [
      "/home/ismael/anaconda3/envs/IN_/lib/python3.6/site-packages/ipykernel_launcher.py:28: UserWarning: This pattern has match groups. To actually get the groups, use str.extract.\n",
      "/home/ismael/anaconda3/envs/IN_/lib/python3.6/site-packages/ipykernel_launcher.py:28: UserWarning: Boolean Series key will be reindexed to match DataFrame index.\n"
     ]
    },
    {
     "name": "stdout",
     "output_type": "stream",
     "text": [
      "Colisión accidentes:  3222\n",
      "Colisión accidentes:  169\n",
      "Colisión accidentes:  3334\n",
      "\n",
      "Caso de estudio 1:\n",
      "\n",
      "k-means            : k:   4,   0.21 segundos, CH Index: 3780.191121307, SH: 0.41152\n",
      "k_filtrado:  4\n",
      "---------- Preparando el scatter matrix...\n"
     ]
    },
    {
     "name": "stderr",
     "output_type": "stream",
     "text": [
      "/home/ismael/anaconda3/envs/IN_/lib/python3.6/site-packages/matplotlib/pyplot.py:523: RuntimeWarning: More than 20 figures have been opened. Figures created through the pyplot interface (`matplotlib.pyplot.figure`) are retained until explicitly closed and may consume too much memory. (To control this warning, see the rcParam `figure.max_open_warning`).\n",
      "  max_open_warning, RuntimeWarning)\n"
     ]
    },
    {
     "name": "stdout",
     "output_type": "stream",
     "text": [
      "DBSCAN             : k:   3,   0.28 segundos, CH Index: 161.471105833, SH: 0.67063\n",
      "k_filtrado:  3\n",
      "---------- Preparando el scatter matrix...\n"
     ]
    },
    {
     "name": "stderr",
     "output_type": "stream",
     "text": [
      "/home/ismael/anaconda3/envs/IN_/lib/python3.6/site-packages/matplotlib/pyplot.py:523: RuntimeWarning: More than 20 figures have been opened. Figures created through the pyplot interface (`matplotlib.pyplot.figure`) are retained until explicitly closed and may consume too much memory. (To control this warning, see the rcParam `figure.max_open_warning`).\n",
      "  max_open_warning, RuntimeWarning)\n"
     ]
    },
    {
     "name": "stdout",
     "output_type": "stream",
     "text": [
      "Birch              : k:   4,   0.35 segundos, CH Index: 2861.617286308, SH: 0.50035\n",
      "k_filtrado:  4\n",
      "---------- Preparando el scatter matrix...\n",
      "SpectralClustering : k:   4,  17.80 segundos, CH Index: 2490.278158931, SH: 0.40943\n",
      "k_filtrado:  4\n",
      "---------- Preparando el scatter matrix...\n",
      "Ward               : k:   4,   0.76 segundos, CH Index: 0.000000000, SH: 0.00000\n",
      "k_filtrado:  4\n",
      "---------- Preparando el scatter matrix...\n",
      "\n",
      "Caso de estudio 2:\n",
      "\n",
      "k-means            : k:   4,   0.04 segundos, CH Index: 188.040364654, SH: 0.43110\n",
      "k_filtrado:  4\n",
      "---------- Preparando el scatter matrix...\n",
      "DBSCAN             : k:   2,   0.00 segundos, CH Index: 67.718218469, SH: 0.55070\n",
      "k_filtrado:  2\n"
     ]
    },
    {
     "name": "stderr",
     "output_type": "stream",
     "text": [
      "/home/ismael/anaconda3/envs/IN_/lib/python3.6/site-packages/matplotlib/pyplot.py:523: RuntimeWarning: More than 20 figures have been opened. Figures created through the pyplot interface (`matplotlib.pyplot.figure`) are retained until explicitly closed and may consume too much memory. (To control this warning, see the rcParam `figure.max_open_warning`).\n",
      "  max_open_warning, RuntimeWarning)\n"
     ]
    },
    {
     "name": "stdout",
     "output_type": "stream",
     "text": [
      "---------- Preparando el scatter matrix...\n",
      "Birch              : k:   3,   0.02 segundos, CH Index: 197.870725676, SH: 0.44072\n",
      "k_filtrado:  3\n"
     ]
    },
    {
     "name": "stderr",
     "output_type": "stream",
     "text": [
      "/home/ismael/anaconda3/envs/IN_/lib/python3.6/site-packages/sklearn/cluster/birch.py:629: UserWarning: Number of subclusters found (3) by Birch is less than (4). Decrease the threshold.\n",
      "  % (len(centroids), self.n_clusters))\n"
     ]
    },
    {
     "name": "stdout",
     "output_type": "stream",
     "text": [
      "---------- Preparando el scatter matrix...\n",
      "SpectralClustering : k:   4,   0.14 segundos, CH Index: 161.891331377, SH: 0.23539\n",
      "k_filtrado:  4\n",
      "---------- Preparando el scatter matrix...\n",
      "Ward               : k:   4,   0.00 segundos, CH Index: 0.000000000, SH: 0.00000\n",
      "k_filtrado:  4\n",
      "---------- Preparando el scatter matrix...\n",
      "\n",
      "Caso de estudio 3:\n",
      "\n",
      "k-means            : k:   4,   0.04 segundos, CH Index: 17961.363341743, SH: 0.94660\n",
      "k_filtrado:  4\n",
      "---------- Preparando el scatter matrix...\n",
      "DBSCAN             : k:  12,   0.34 segundos, CH Index: 28321.997616825, SH: 0.97464\n",
      "k_filtrado:  12\n",
      "---------- Preparando el scatter matrix...\n"
     ]
    },
    {
     "name": "stderr",
     "output_type": "stream",
     "text": [
      "/home/ismael/anaconda3/envs/IN_/lib/python3.6/site-packages/matplotlib/pyplot.py:523: RuntimeWarning: More than 20 figures have been opened. Figures created through the pyplot interface (`matplotlib.pyplot.figure`) are retained until explicitly closed and may consume too much memory. (To control this warning, see the rcParam `figure.max_open_warning`).\n",
      "  max_open_warning, RuntimeWarning)\n"
     ]
    },
    {
     "name": "stdout",
     "output_type": "stream",
     "text": [
      "Birch              "
     ]
    },
    {
     "name": "stderr",
     "output_type": "stream",
     "text": [
      "/home/ismael/anaconda3/envs/IN_/lib/python3.6/site-packages/sklearn/cluster/birch.py:629: UserWarning: Number of subclusters found (2) by Birch is less than (4). Decrease the threshold.\n",
      "  % (len(centroids), self.n_clusters))\n"
     ]
    },
    {
     "name": "stdout",
     "output_type": "stream",
     "text": [
      ": k:   2,   0.24 segundos, CH Index: 9700.192260488, SH: 0.83179\n",
      "k_filtrado:  2\n",
      "---------- Preparando el scatter matrix...\n",
      "SpectralClustering : k:   4,  41.81 segundos, CH Index: 10211.398881028, SH: 0.91628\n",
      "k_filtrado:  4\n",
      "---------- Preparando el scatter matrix...\n",
      "Ward               : k:   4,   0.61 segundos, CH Index: 0.000000000, SH: 0.00000\n",
      "k_filtrado:  4\n",
      "---------- Preparando el scatter matrix...\n"
     ]
    }
   ],
   "source": [
    "import time\n",
    "\n",
    "import matplotlib.pyplot as plt\n",
    "import pandas as pd\n",
    "\n",
    "from sklearn import cluster\n",
    "from sklearn import metrics\n",
    "from sklearn import preprocessing\n",
    "from math import floor\n",
    "\n",
    "\n",
    "#Activar para relizar pruebas con menos Datos\n",
    "prueba = False\n",
    "\n",
    "\n",
    "\n",
    "accidentes = pd.read_csv('accidentes_2013.csv')\n",
    "\n",
    "if(prueba):\n",
    "    accidentes = accidentes.sample(len(accidentes)//10)\n",
    "    print(len(accidentes))\n",
    "else:\n",
    "    print(len(accidentes))\n",
    "\n",
    "\n",
    "#seleccionar accidentes de tipo 'colisión de vehículos'\n",
    "subset1 = accidentes[accidentes['TIPO_ACCIDENTE'].str.contains(\"Colisión de vehículos\")]\n",
    "subset1 = subset1[accidentes['TIPO_ACCIDENTE'].str.contains(\"(Alcance)\") & (accidentes['TIPO_VIA'].str.contains(\"AUTOPISTA\") | accidentes['TIPO_VIA'].str.contains(\"AUTOVÍA\"))]\n",
    "caso_estudio1 = ['HORA', 'DIASEMANA', 'TOT_VICTIMAS']\n",
    "X1 = subset1[caso_estudio1]\n",
    "print('Colisión accidentes: ',len(X1))\n",
    "subset2 = accidentes[accidentes['TIPO_ACCIDENTE'].str.contains(\"Atropello\")& accidentes['PROVINCIA'].str.contains(\"Córdoba\")]\n",
    "\n",
    "caso_estudio2 = ['MES', 'DIASEMANA','HORA', 'TOT_MUERTOS']\n",
    "X2 = subset2[caso_estudio2]\n",
    "print('Colisión accidentes: ',len(X2))\n",
    "subset3 = accidentes[accidentes['TIPO_ACCIDENTE'].str.contains(\"Vuelco en la calzada\")]\n",
    "caso_estudio3 = ['TOT_HERIDOS_GRAVES', 'TOT_HERIDOS_LEVES', 'TOT_VEHICULOS_IMPLICADOS']\n",
    "X3 = subset3[caso_estudio3]\n",
    "print('Colisión accidentes: ',len(X3))\n",
    "\n",
    "usadas = [caso_estudio1,caso_estudio2,caso_estudio3]\n",
    "casos_de_estudio = [X1,X2,X3]\n",
    "\n",
    "k_means = cluster.KMeans(init='k-means++',n_clusters=4, n_init=5)\n",
    "mbkm = cluster.MiniBatchKMeans(n_clusters=4)\n",
    "ms = cluster.MeanShift()\n",
    "spectral = cluster.SpectralClustering(n_clusters=4)\n",
    "affinity_propagation = cluster.AffinityPropagation()\n",
    "dbscan = cluster.DBSCAN(eps=0.1, min_samples=5 )\n",
    "birch = cluster.Birch(n_clusters=4,threshold=0.3)\n",
    "ward = cluster.AgglomerativeClustering(n_clusters=4, linkage='ward')\n",
    "\n",
    "clustering_algorithm = (\n",
    "    ('k-means',k_means),\n",
    "# #     ('MiniBatkMeans',mbkm),\n",
    "    # ('MeanShift',ms)\n",
    "    ('DBSCAN',dbscan),\n",
    "    ('Birch',birch),\n",
    "    ('SpectralClustering',spectral),\n",
    "    ('Ward',ward)\n",
    ")\n",
    "for i,X in enumerate(casos_de_estudio):\n",
    "    print(\"\\nCaso de estudio \"+str(i+1)+\":\\n\")\n",
    "    X_normal = preprocessing.normalize(X, norm='l2')\n",
    "\n",
    "    for j,q in enumerate(clustering_algorithm):\n",
    "\n",
    "        name,algorithm = q\n",
    "        print('{:19s}'.format(name),end='')\n",
    "        t = time.time()\n",
    "        cluster_predict = algorithm.fit_predict(X_normal)\n",
    "        # print('\\nprediccion: ',cluster_predict)\n",
    "        tiempo = time.time() - t\n",
    "        k = len(set(cluster_predict))\n",
    "        print(\": k: {:3.0f}, \".format(k),end='')\n",
    "        print(\"{:6.2f} segundos, \".format(tiempo),end='')\n",
    "\n",
    "        if(k>1) and (name is not 'Ward'):\n",
    "            metric_CH = metrics.calinski_harabaz_score(X_normal, cluster_predict)\n",
    "\n",
    "            metric_SH = metrics.silhouette_score(X_normal, cluster_predict,metric = 'euclidean',sample_size=floor(0.1*len(X)),random_state=123456)\n",
    "        else:\n",
    "            metric_CH = 0\n",
    "            metric_SH = 0\n",
    "        print(\"CH Index: {:8.9f}, \".format(metric_CH),end='')\n",
    "        print(\"SH: {:.5f}\".format(metric_SH))\n",
    "\n",
    "        #se convierte la asignación de clusters a DataFrame\n",
    "        clusters = pd.DataFrame(cluster_predict,index=X.index,columns=['cluster'])\n",
    "        # print('cluster: ',cluster)\n",
    "        #y se añade como columna a X\n",
    "\n",
    "        X_cluster = pd.concat([X, clusters], axis=1)\n",
    "        #Filtro quitando los elementos (outliers) que caen en clusters muy pequeños en el jerárquico\n",
    "        min_size = 3\n",
    "        X_filtrado = X_cluster[X_cluster.groupby('cluster').cluster.transform(len) > min_size]\n",
    "        k_filtrado = len(set(X_filtrado['cluster']))\n",
    "        print('k_filtrado: ',k_filtrado)\n",
    "        # print(\"De los {:.0f} clusters hay {:.0f} con más de {:.0f} elementos. Del total de {:.0f} elementos, se seleccionan {:.0f}\".format(k['Ward'],k_filtrado,min_size,len(X),len(X_filtrado)))\n",
    "\n",
    "        if(i==1):\n",
    "            _X_filtrado_sin = X_filtrado.drop('cluster', 1)\n",
    "            #Normalizo el conjunto filtrado\n",
    "            _X_filtrado_normal = preprocessing.normalize(_X_filtrado_sin, norm='l2')\n",
    "            #Ahora lo saco usando seaborn (que a su vez usa scipy) para incluir un heatmap\n",
    "            import seaborn as sns\n",
    "            _X_filtrado_normal_DF = pd.DataFrame(_X_filtrado_normal,index=_X_filtrado_sin.index,columns=usadas[i])\n",
    "            dend_plot = sns.clustermap(_X_filtrado_normal_DF, method='ward', col_cluster=False, figsize=(20,10), cmap=\"YlGnBu\")\n",
    "            dend_plot.savefig('imagenes/dendograma.png')\n",
    "\n",
    "        print(\"---------- Preparando el scatter matrix...\")\n",
    "        import seaborn as sns\n",
    "        sns.set()\n",
    "        variables = list(X_filtrado)\n",
    "        variables.remove('cluster')\n",
    "        sns_plot = sns.pairplot(X_filtrado, vars=variables, hue=\"cluster\", palette='Paired', plot_kws={\"s\": 25}, diag_kind=\"hist\") #en hue indicamos que la columna 'cluster' define los colores\n",
    "        sns_plot.fig.subplots_adjust(wspace=.03, hspace=.03);\n",
    "        sns_plot.savefig('imagenes/Caso_de_estudio_'+str(i)+'/'+clustering_algorithm[j][0]+\".png\")"
   ]
  }
 ],
 "metadata": {
  "kernelspec": {
   "display_name": "IN_",
   "language": "python",
   "name": "in_"
  },
  "language_info": {
   "codemirror_mode": {
    "name": "ipython",
    "version": 3
   },
   "file_extension": ".py",
   "mimetype": "text/x-python",
   "name": "python",
   "nbconvert_exporter": "python",
   "pygments_lexer": "ipython3",
   "version": "3.6.2"
  }
 },
 "nbformat": 4,
 "nbformat_minor": 2
}
